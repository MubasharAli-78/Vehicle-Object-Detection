{
  "cells": [
    {
      "cell_type": "code",
      "execution_count": null,
      "metadata": {
        "colab": {
          "base_uri": "https://localhost:8080/"
        },
        "id": "PV7tHPmyf9lH",
        "outputId": "ad77b725-a88e-4b81-c939-4c77775f6b44"
      },
      "outputs": [
        {
          "name": "stdout",
          "output_type": "stream",
          "text": [
            "Mounted at /content/drive\n"
          ]
        }
      ],
      "source": [
        "# Step 1: Mount Google Drive\n",
        "from google.colab import drive\n",
        "drive.mount('/content/drive')\n",
        "# Step 2: Install YOLOv8 & Roboflow\n",
        "!pip install ultralytics roboflow --quiet\n",
        "# Step 3: Import Libraries\n",
        "from roboflow import Roboflow\n",
        "from ultralytics import YOLO\n",
        "import os\n",
        "# Step 4: Download Dataset from Roboflow\n",
        "rf = Roboflow(api_key=\"\")\n",
        "project = rf.workspace(\"\").project(\"\")\n",
        "version = project.version(4)\n",
        "dataset = version.download(\"yolov8-obb\")\n",
        "# :white_check_mark: Fix: Get dataset YAML file correctly\n",
        "dataset_yaml = dataset.location + \"/data.yaml\"\n",
        "# Step 5: Train YOLOv8 Model (50 epochs)\n",
        "model = YOLO(\"yolov8m.pt\")\n",
        "model.train(\n",
        "    data=dataset_yaml,\n",
        "    epochs=500,\n",
        "    imgsz=640,\n",
        "    batch=16,\n",
        "    cache=True,\n",
        "    device=\"cuda\"\n",
        ")\n",
        "# Step 6: Save Trained Model to Google Drive\n",
        "model_path = \"/content/runs/detect/train/weights/best.pt\"\n",
        "drive_model_path = \"/content/drive/MyDrive/best.pt\"\n",
        "if os.path.exists(model_path):\n",
        "    !cp {model_path} {drive_model_path}\n",
        "    print(f\":white_check_mark: Model saved to Google Drive: {drive_model_path}\")\n",
        "else:\n",
        "    print(\":x: Training failed or model not found.\")\n"
      ]
    }
  ],
  "metadata": {
    "accelerator": "GPU",
    "colab": {
      "gpuType": "T4",
      "provenance": []
    },
    "kernelspec": {
      "display_name": "Python 3",
      "name": "python3"
    },
    "language_info": {
      "name": "python"
    }
  },
  "nbformat": 4,
  "nbformat_minor": 0
}